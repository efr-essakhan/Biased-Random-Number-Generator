{
 "cells": [
  {
   "cell_type": "code",
   "execution_count": 9,
   "id": "6210a3fa-8bff-4753-bbef-6329aa4c1fcf",
   "metadata": {},
   "outputs": [],
   "source": [
    "import random"
   ]
  },
  {
   "cell_type": "code",
   "execution_count": 10,
   "id": "3de4a3ae-bc03-43e1-a4a2-1ba8126e6a69",
   "metadata": {},
   "outputs": [],
   "source": [
    "sampleMassDist = (0.2, 0.1, 0.15, 0.15, 0.25, 0.15)"
   ]
  },
  {
   "cell_type": "code",
   "execution_count": 11,
   "id": "d206097f-fc3b-4a0f-a8cf-79736f5fef79",
   "metadata": {},
   "outputs": [],
   "source": [
    "def roll(massDist): #mass distribution\n",
    "    randRoll = random.random() # in [0,1]\n",
    "    sum = 0\n",
    "    result = 1\n",
    "    for mass in massDist:\n",
    "        sum += mass\n",
    "        if randRoll < sum:\n",
    "            return result\n",
    "        result+=1\n",
    "        \n",
    "    "
   ]
  },
  {
   "cell_type": "code",
   "execution_count": 168,
   "id": "c6fc89f0-5316-4f41-aed6-1eed41245e5b",
   "metadata": {},
   "outputs": [
    {
     "name": "stdout",
     "output_type": "stream",
     "text": [
      "5\n"
     ]
    }
   ],
   "source": [
    "print(roll(sampleMassDist))\n",
    "\n",
    "\n"
   ]
  },
  {
   "cell_type": "code",
   "execution_count": null,
   "id": "bb1eb4c2-a18b-4014-988d-f5156ab8e8e7",
   "metadata": {},
   "outputs": [],
   "source": []
  }
 ],
 "metadata": {
  "kernelspec": {
   "display_name": "Python 3 (ipykernel)",
   "language": "python",
   "name": "python3"
  },
  "language_info": {
   "codemirror_mode": {
    "name": "ipython",
    "version": 3
   },
   "file_extension": ".py",
   "mimetype": "text/x-python",
   "name": "python",
   "nbconvert_exporter": "python",
   "pygments_lexer": "ipython3",
   "version": "3.9.6"
  }
 },
 "nbformat": 4,
 "nbformat_minor": 5
}
